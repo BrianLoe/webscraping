{
 "cells": [
  {
   "cell_type": "code",
   "execution_count": 113,
   "id": "f03996ab",
   "metadata": {},
   "outputs": [],
   "source": [
    "from login import config\n",
    "\n",
    "params = config()"
   ]
  },
  {
   "cell_type": "code",
   "execution_count": 138,
   "id": "64a5a319",
   "metadata": {},
   "outputs": [],
   "source": [
    "from selenium import webdriver\n",
    "from selenium.webdriver.common.by import By\n",
    "from bs4 import BeautifulSoup\n",
    "import time\n",
    "import openai\n",
    "# Insert openai API key to use GPT\n",
    "openai.api_key = params['api_key']\n",
    "\n",
    "# Creating a webdriver instance\n",
    "driver = webdriver.Chrome()\n",
    "# This instance will be used to log into LinkedIn\n",
    "\n",
    "# Opening linkedIn's login page\n",
    "driver.get(\"https://linkedin.com/uas/login\")\n",
    "\n",
    "# waiting for the page to load\n",
    "time.sleep(5)\n",
    "\n",
    "# entering username\n",
    "username = driver.find_element(By.ID, \"username\")\n",
    "# In case of an error, try changing the element tag used here.\n",
    "\n",
    "# Enter Your Email Address\n",
    "username.send_keys(params['user'])\n",
    "\n",
    "# entering password\n",
    "pword = driver.find_element(By.ID, \"password\")\n",
    "# In case of an error, try changing the element tag used here.\n",
    "\n",
    "# Enter Your Password\n",
    "pword.send_keys(params['password'])\n",
    "\n",
    "# Clicking on the log in button\n",
    "# Format (syntax) of writing XPath --> //tagname[@attribute='value']\n",
    "driver.find_element(By.XPATH, \"//button[@type='submit']\").click()\n",
    "# In case of an error, try changing the XPath used here."
   ]
  },
  {
   "cell_type": "code",
   "execution_count": 135,
   "id": "fbca23f1",
   "metadata": {},
   "outputs": [],
   "source": [
    "def search_job_in_page(job_list, cur_page_num):\n",
    "    job_name = job_list.find_all('li', {'class':'ember-view'})\n",
    "    for row in job_name:\n",
    "        try:\n",
    "            job_title = row.find('a').contents[0].strip()\n",
    "            company = row.find('div', {'class':'job-card-container__company-name'}).contents[0].strip()\n",
    "            level = job_list.find('li', {'class':'jobs-unified-top-card__job-insight'}).find('span').contents[2]\n",
    "            text = job_list.find('div', {'class':'jobs-description__content jobs-description-content'}).find('span').getText().strip()\n",
    "            system_msg=\"You are a career coach who understands job requirements\"\n",
    "            user_msg=\"List 5 key skills to be a great fit in this job description \"+text\n",
    "            response = openai.ChatCompletion.create(\n",
    "                                                    model=\"gpt-3.5-turbo\",\n",
    "                                                    messages=[{\"role\": \"system\", \"content\": system_msg},\n",
    "                                                              {\"role\": \"user\", \"content\": user_msg}]\n",
    "                                                   )\n",
    "            print('Job Title: ',job_title)\n",
    "            print('Company: ', company)\n",
    "            print('Level: ',level)\n",
    "            print('5 Key Skills Needed according to GPT: ')\n",
    "            print(response[\"choices\"][0][\"message\"][\"content\"])\n",
    "            print()\n",
    "        except: \n",
    "            try:\n",
    "                p_num = int(row.find('button').attrs.get('aria-label')[-1:])\n",
    "                if cur_page_num<p_num:\n",
    "                    cur_page_num=p_num\n",
    "                    break\n",
    "                elif cur_page_num>=p_num:\n",
    "                    continue\n",
    "            except:\n",
    "                continue\n",
    "    return cur_page_num"
   ]
  },
  {
   "cell_type": "code",
   "execution_count": 136,
   "id": "6bd1442b",
   "metadata": {},
   "outputs": [],
   "source": [
    "def get_job_titles_company(last_page):\n",
    "    for i in range(1, last_page+1):\n",
    "        src = driver.page_source\n",
    "\n",
    "        # Now using beautiful soup\n",
    "        soup = BeautifulSoup(src, 'html5lib')\n",
    "\n",
    "        job_list = soup.find('div', {'class':'scaffold-layout__list-detail-inner'})\n",
    "        print('||Listing all job lists in page ', str(i)+'||')\n",
    "        next_page_num = search_job_in_page(job_list,i)\n",
    "        print()\n",
    "        driver.find_element(By.XPATH, \"//button[@aria-label='Page \"+str(next_page_num)+\"']\").click()\n",
    "        time.sleep(7)\n",
    "    return next_page_num"
   ]
  },
  {
   "cell_type": "code",
   "execution_count": 139,
   "id": "93de30ad",
   "metadata": {
    "scrolled": false
   },
   "outputs": [
    {
     "name": "stdout",
     "output_type": "stream",
     "text": [
      "||Listing all job lists in page  1||\n",
      "Job Title:  Junior Data Analyst\n",
      "Company:  Centurion\n",
      "Level:  Full-time · Mid-Senior level\n",
      "5 Key Skills Needed according to GPT: \n",
      "1. Proficiency in Microsoft Excel: As stated in the job description, excellent Microsoft Excel skills are essential for this role. The candidate should be comfortable with data manipulation, statistical analysis, and the ability to create visual representations using Excel.\n",
      "2. Strong understanding of Microsoft Power BI: The candidate should possess a strong understanding of Microsoft Power BI, as they will be required to use this tool for data visualization, creating dashboards, and reports.\n",
      "3. Business/report writing skills: The candidate should have effective business and report writing skills, as they will be responsible for collecting, compiling, analyzing, and interpreting data in various report formats.\n",
      "4. Knowledge of Quality Systems and Procedures: It is important for the candidate to have knowledge of quality systems and procedures, as they will be identifying and suggesting potential improvements in reporting processes and implementing data collection systems to optimize efficiency and data quality.\n",
      "5. Excellent communication skills: The candidate should have excellent written and verbal communication skills to effectively communicate insights and suggestions based on data analysis to the team, promoting a data-driven decision-making culture.\n",
      "\n",
      "Job Title:  Data Analyst\n",
      "Company:  Jobs via eFinancialCareers\n",
      "Level:  Full-time · Mid-Senior level\n",
      "5 Key Skills Needed according to GPT: \n",
      "1. Strong analytical skills: The ability to collect, compile, analyze, and interpret data is a key skill for a Junior Business Analyst. This includes manipulating data, conducting statistical analysis, and visually representing data using tools like Microsoft Excel, Google Spreadsheets, and Microsoft Power BI.\n",
      "\n",
      "2. Problem-solving skills: A Junior Business Analyst should have the ability to identify and suggest potential improvements in reporting processes, including automating tasks and functions where possible. They should also be able to provide insights and suggestions to the team based on data analysis, promoting a data-driven decision-making culture.\n",
      "\n",
      "3. Technical skills: Proficiency in using Microsoft Excel, Microsoft Power BI, and SQL databases is essential for a Junior Business Analyst. They should have a strong understanding of these tools and be able to effectively utilize them for data manipulation, visualization, and analysis.\n",
      "\n",
      "4. Communication skills: Excellent communication skills, both written and verbal, are important for a Junior Business Analyst. They should be able to effectively communicate data findings, insights, and suggestions to stakeholders, as well as collaborate and coordinate with team members.\n",
      "\n",
      "5. Time management and self-discipline: Effective time management and self-discipline are crucial for a Junior Business Analyst. They should be able to manage their tasks and responsibilities within a 38-hour working week, prioritize their workload, and meet deadlines. They should also have the self-discipline to work independently and stay focused on their tasks.\n",
      "\n",
      "Job Title:  Insight Analyst, Unloan, x15 Ventures\n",
      "Company:  Commonwealth Bank\n",
      "Level:  Full-time · Mid-Senior level\n",
      "5 Key Skills Needed according to GPT: \n",
      "1. Data Analysis: The ability to collect, compile, analyze, and interpret data in various report formats is crucial for this role. The candidate should be proficient in using Microsoft Excel and Google Spreadsheets for data manipulation, statistical analysis, and visual representation.\n",
      "\n",
      "2. Data Visualization: Proficiency in using Microsoft Power BI is essential for creating dashboards and reports. The candidate should be able to exhibit competence in using Power BI for data visualization and presenting insights.\n",
      "\n",
      "3. Process Improvement: The candidate should have a strong understanding of quality systems and procedures and be able to identify and suggest potential improvements in reporting processes. They should be able to automate tasks and functions where possible to optimize efficiency.\n",
      "\n",
      "4. Technical Skills: Proficiency in SQL databases and the ability to perform SQL queries for data extraction and analysis is required. The candidate should have a good knowledge of IT and business analysis principles.\n",
      "\n",
      "5. Communication Skills: Excellent communication skills, both written and verbal, are essential for this role. The candidate should be able to effectively communicate insights and suggestions to the team based on data analysis, promoting a data-driven decision-making culture.\n",
      "\n",
      "Job Title:  BI/Reporting Analyst\n",
      "Company:  INTELLIGEN\n",
      "Level:  Full-time · Mid-Senior level\n",
      "5 Key Skills Needed according to GPT: \n",
      "1. Strong data analysis skills: The Junior Business Analyst should have the ability to collect, compile, analyze, and interpret data in various report formats. They should be proficient in using tools such as Microsoft Excel and Google Spreadsheets for data manipulation, statistical analysis, and visual representation.\n",
      "\n",
      "2. Knowledge of Microsoft Power BI: The successful candidate should have a strong understanding of Microsoft Power BI, including the ability to create dashboards and reports for data visualization. This skill will be essential in providing insights and suggestions to the team based on data analysis.\n",
      "\n",
      "3. Proficiency in SQL: The Junior Business Analyst should be familiar with SQL databases and be able to perform SQL queries for data extraction and analysis. This skill will be valuable in optimizing efficiency and data quality.\n",
      "\n",
      "4. Strong business/report writing skills: Effective communication is crucial in this role, both written and verbal. The candidate should have the ability to effectively communicate insights and recommendations through clear and concise business and report writing.\n",
      "\n",
      "5. Time management and self-discipline: As a Junior Business Analyst, the ability to prioritize tasks, meet deadlines, and manage time effectively is important. This skill will ensure efficient completion of projects and tasks, contributing to overall team productivity.\n",
      "\n",
      "\n"
     ]
    },
    {
     "data": {
      "text/plain": [
       "2"
      ]
     },
     "execution_count": 139,
     "metadata": {},
     "output_type": "execute_result"
    }
   ],
   "source": [
    "recomend_url= 'https://www.linkedin.com/jobs/collections/recommended?lipi=urn%3Ali%3Apage%3Ad_flagship3_job_home%3BobHSV5i9RA6yU%2F%2F5gLL1pQ%3D%3D'\n",
    "jobs_url = \"https://www.linkedin.com/jobs/\"\n",
    "    \n",
    "# driver.get(jobs_url)\n",
    "\n",
    "driver.get(recomend_url)\n",
    "time.sleep(3)\n",
    "get_job_titles_company(1)"
   ]
  },
  {
   "cell_type": "markdown",
   "id": "5a981def",
   "metadata": {},
   "source": [
    "# Experiment"
   ]
  },
  {
   "cell_type": "code",
   "execution_count": 115,
   "id": "033d412e",
   "metadata": {},
   "outputs": [],
   "source": [
    "src = driver.page_source\n",
    "\n",
    "# Now using beautiful soup\n",
    "soup = BeautifulSoup(src, 'html5lib')\n",
    "\n",
    "job_list = soup.find('div', {'class':'scaffold-layout__list-detail-inner'})\n",
    "\n",
    "text = job_list.find('div', {'class':'jobs-description__content jobs-description-content'}).find('span').getText().strip()"
   ]
  },
  {
   "cell_type": "code",
   "execution_count": 114,
   "id": "47174ddc",
   "metadata": {},
   "outputs": [],
   "source": [
    "openai.api_key = params['api_key']"
   ]
  },
  {
   "cell_type": "code",
   "execution_count": 116,
   "id": "db7f550d",
   "metadata": {},
   "outputs": [],
   "source": [
    "system_msg=\"You are a career coach who understands job requirements\"\n",
    "user_msg=\"List 5 key skills to be a great fit in this job description \"+text\n",
    "response = openai.ChatCompletion.create(model=\"gpt-3.5-turbo\",\n",
    "                                        messages=[{\"role\": \"system\", \"content\": system_msg},\n",
    "                                         {\"role\": \"user\", \"content\": user_msg}])"
   ]
  },
  {
   "cell_type": "code",
   "execution_count": 118,
   "id": "b1dc83da",
   "metadata": {},
   "outputs": [
    {
     "name": "stdout",
     "output_type": "stream",
     "text": [
      "1. Strong analytical skills: The role requires the ability to collect, compile, analyze, and interpret data. A great fit would have a strong analytical mindset and be able to extract insights from data to support decision-making.\n",
      "2. Proficiency in data manipulation and visualization tools: The candidate should have excellent skills in Microsoft Excel and Microsoft Power BI. This includes the ability to manipulate data, perform statistical analysis, and create visual representations such as dashboards and reports.\n",
      "3. Attention to detail and accuracy: Given the importance of data quality, it is crucial for the candidate to have a high level of attention to detail and the ability to maintain accuracy in data collection, analysis, and reporting.\n",
      "4. Problem-solving and continuous improvement mindset: The role involves identifying potential improvements in reporting processes and automating tasks. Therefore, a great fit would be someone who has a proactive problem-solving mindset and is constantly looking for ways to optimize efficiency and effectiveness.\n",
      "5. Strong communication skills: The candidate should possess excellent written and verbal communication skills. This is important for effectively conveying insights and suggestions based on data analysis to the team and promoting a data-driven decision-making culture.\n"
     ]
    }
   ],
   "source": [
    "print(response[\"choices\"][0][\"message\"][\"content\"])"
   ]
  },
  {
   "cell_type": "code",
   "execution_count": null,
   "id": "e370bb32",
   "metadata": {},
   "outputs": [],
   "source": []
  }
 ],
 "metadata": {
  "kernelspec": {
   "display_name": "Python 3 (ipykernel)",
   "language": "python",
   "name": "python3"
  },
  "language_info": {
   "codemirror_mode": {
    "name": "ipython",
    "version": 3
   },
   "file_extension": ".py",
   "mimetype": "text/x-python",
   "name": "python",
   "nbconvert_exporter": "python",
   "pygments_lexer": "ipython3",
   "version": "3.8.12"
  }
 },
 "nbformat": 4,
 "nbformat_minor": 5
}
