{
 "cells": [
  {
   "cell_type": "code",
   "execution_count": 113,
   "id": "f03996ab",
   "metadata": {},
   "outputs": [],
   "source": [
    "from login import config\n",
    "\n",
    "params = config()"
   ]
  },
  {
   "cell_type": "code",
   "execution_count": 185,
   "id": "64a5a319",
   "metadata": {},
   "outputs": [],
   "source": [
    "from selenium import webdriver\n",
    "from selenium.webdriver.common.by import By\n",
    "from bs4 import BeautifulSoup\n",
    "import time\n",
    "import openai\n",
    "# Insert openai API key to use GPT\n",
    "openai.api_key = params['api_key']\n",
    "\n",
    "# Creating a webdriver instance\n",
    "driver = webdriver.Chrome()\n",
    "# This instance will be used to log into LinkedIn\n",
    "\n",
    "# Opening linkedIn's login page\n",
    "driver.get(\"https://linkedin.com/uas/login\")\n",
    "\n",
    "# waiting for the page to load\n",
    "time.sleep(5)\n",
    "\n",
    "# entering username\n",
    "username = driver.find_element(By.ID, \"username\")\n",
    "# In case of an error, try changing the element tag used here.\n",
    "\n",
    "# Enter Your Email Address\n",
    "username.send_keys(params['user'])\n",
    "\n",
    "# entering password\n",
    "pword = driver.find_element(By.ID, \"password\")\n",
    "# In case of an error, try changing the element tag used here.\n",
    "\n",
    "# Enter Your Password\n",
    "pword.send_keys(params['password'])\n",
    "\n",
    "# Clicking on the log in button\n",
    "# Format (syntax) of writing XPath --> //tagname[@attribute='value']\n",
    "driver.find_element(By.XPATH, \"//button[@type='submit']\").click()\n",
    "# In case of an error, try changing the XPath used here."
   ]
  },
  {
   "cell_type": "code",
   "execution_count": 201,
   "id": "fbca23f1",
   "metadata": {},
   "outputs": [],
   "source": [
    "def search_job_in_page(job_list, cur_page_num):\n",
    "    job_name = job_list.find_all('li', {'class':'ember-view'})\n",
    "    system_msg=\"You are a career coach who understands job requirements\"\n",
    "    user_msg=\"List 5 key skills to be a great fit with this job description: \"\n",
    "    for row in job_name:\n",
    "        try:\n",
    "            job_title = row.find('a').contents[0].strip()\n",
    "            company = row.find('div', {'class':'job-card-container__company-name'}).contents[0].strip()\n",
    "            print('Clicking job card ...')\n",
    "            driver.find_element(By.XPATH, \"//a[@aria-label='\"+job_title+\"']\").click()\n",
    "            time.sleep(5)\n",
    "            src = driver.page_source\n",
    "            soup = BeautifulSoup(src, 'html5lib')\n",
    "            job_card = soup.find('div', {'class':'scaffold-layout__list-detail-inner'})\n",
    "            print('Extracting level ...')\n",
    "            level = job_card.find('li', {'class':'jobs-unified-top-card__job-insight'}).find('span').contents[2]\n",
    "            print('Extracting location ...')\n",
    "            location = job_card.find('span', {'class':'jobs-unified-top-card__bullet'}).contents[0].strip()\n",
    "            print('Extracting time_posted ...')\n",
    "            time_posted = job_card.find('span', {'class':'jobs-unified-top-card__posted-date'}).contents[0].strip()\n",
    "            print('Extracting text ...')\n",
    "            text = job_card.find('div', {'class':'jobs-description__content jobs-description-content'}).find('span').getText().strip()\n",
    "            user_msg+=text\n",
    "#             response = openai.ChatCompletion.create(\n",
    "#                                                     model=\"gpt-3.5-turbo\",\n",
    "#                                                     messages=[{\"role\": \"system\", \"content\": system_msg},\n",
    "#                                                               {\"role\": \"user\", \"content\": user_msg}]\n",
    "#                                                    )\n",
    "#             response = response[\"choices\"][0][\"message\"][\"content\"]\n",
    "            print('Job Title: ',job_title)\n",
    "            print('Company: ', company)\n",
    "            print('Location: ', location)\n",
    "            print('Level: ',level)\n",
    "            print('5 Key Skills Needed according to GPT: ')\n",
    "            print(response)\n",
    "#             print()\n",
    "            job_dict['job_title'].append(job_title)\n",
    "            job_dict['company'].append(company)\n",
    "            job_dict['location'].append(location)\n",
    "            job_dict['level'].append(level)\n",
    "#             job_dict['skills'].append(response)\n",
    "            job_dict['skills'].append(text)\n",
    "        except: \n",
    "            try:\n",
    "                p_num = int(row.find('button').attrs.get('aria-label')[-1:])\n",
    "                if cur_page_num<p_num:\n",
    "                    cur_page_num=p_num\n",
    "                    break\n",
    "                elif cur_page_num>=p_num:\n",
    "                    continue\n",
    "            except:\n",
    "                continue\n",
    "    return cur_page_num"
   ]
  },
  {
   "cell_type": "code",
   "execution_count": 202,
   "id": "6bd1442b",
   "metadata": {},
   "outputs": [],
   "source": [
    "def get_job_titles_company(last_page):\n",
    "    for i in range(1, last_page+1):\n",
    "        src = driver.page_source\n",
    "\n",
    "        # Now using beautiful soup\n",
    "        soup = BeautifulSoup(src, 'html5lib')\n",
    "\n",
    "        job_list = soup.find('div', {'class':'scaffold-layout__list-detail-inner'})\n",
    "        print('||Listing all job lists in page ', str(i)+'||')\n",
    "        next_page_num = search_job_in_page(job_list,i)\n",
    "        print()\n",
    "        driver.find_element(By.XPATH, \"//button[@aria-label='Page \"+str(next_page_num)+\"']\").click()\n",
    "        time.sleep(7)\n",
    "    return next_page_num"
   ]
  },
  {
   "cell_type": "code",
   "execution_count": 203,
   "id": "93de30ad",
   "metadata": {
    "scrolled": true
   },
   "outputs": [
    {
     "name": "stdout",
     "output_type": "stream",
     "text": [
      "||Listing all job lists in page  1||\n",
      "Clicking job card ...\n",
      "Extracting level ...\n",
      "Extracting location ...\n",
      "Extracting time_posted ...\n",
      "Extracting text ...\n",
      "Job Title:  Junior Data Analyst\n",
      "Company:  Centurion\n",
      "Location:  Perth, Western Australia, Australia\n",
      "Level:  Full-time · Mid-Senior level\n",
      "5 Key Skills Needed according to GPT: \n",
      "\n",
      "Clicking job card ...\n",
      "Extracting level ...\n",
      "Extracting location ...\n",
      "Extracting time_posted ...\n",
      "Extracting text ...\n",
      "Job Title:  Data Analyst\n",
      "Company:  Jobs via eFinancialCareers\n",
      "Location:  Sydney, New South Wales, Australia\n",
      "Level:  Full-time · Entry level\n",
      "5 Key Skills Needed according to GPT: \n",
      "\n",
      "Clicking job card ...\n",
      "Extracting level ...\n",
      "Extracting location ...\n",
      "Extracting time_posted ...\n",
      "Extracting text ...\n",
      "Job Title:  Insight Analyst, Unloan, x15 Ventures\n",
      "Company:  Commonwealth Bank\n",
      "Location:  Sydney, New South Wales, Australia\n",
      "Level:  Full-time · Mid-Senior level\n",
      "5 Key Skills Needed according to GPT: \n",
      "\n",
      "Clicking job card ...\n",
      "Extracting level ...\n",
      "Extracting location ...\n",
      "Extracting time_posted ...\n",
      "Extracting text ...\n",
      "Job Title:  Data and BI Operations Analyst\n",
      "Company:  Transport for NSW\n",
      "Location:  Sydney, New South Wales, Australia\n",
      "Level:  Full-time\n",
      "5 Key Skills Needed according to GPT: \n",
      "\n",
      "Clicking job card ...\n",
      "Extracting level ...\n",
      "Extracting location ...\n",
      "Extracting time_posted ...\n",
      "Extracting text ...\n",
      "Job Title:  BI/Reporting Analyst\n",
      "Company:  INTELLIGEN\n",
      "Location:  Sydney, New South Wales, Australia\n",
      "Level:  Contract · Associate\n",
      "5 Key Skills Needed according to GPT: \n",
      "\n",
      "Clicking job card ...\n",
      "Extracting level ...\n",
      "Extracting location ...\n",
      "Extracting time_posted ...\n",
      "Extracting text ...\n",
      "Job Title:  Junior Data Analyst\n",
      "Company:  Sika\n",
      "Location:  Perth, Western Australia, Australia\n",
      "Level:  Full-time · Mid-Senior level\n",
      "5 Key Skills Needed according to GPT: \n",
      "\n",
      "Clicking job card ...\n",
      "Extracting level ...\n",
      "Extracting location ...\n",
      "Extracting time_posted ...\n",
      "Extracting text ...\n",
      "Job Title:  Graduate Consultants - Data\n",
      "Company:  Hydrogen Group\n",
      "Location:  Sydney, New South Wales, Australia\n",
      "Level:  Full-time · Mid-Senior level\n",
      "5 Key Skills Needed according to GPT: \n",
      "\n",
      "\n"
     ]
    },
    {
     "data": {
      "text/plain": [
       "2"
      ]
     },
     "execution_count": 203,
     "metadata": {},
     "output_type": "execute_result"
    }
   ],
   "source": [
    "recomend_url= 'https://www.linkedin.com/jobs/collections/recommended?lipi=urn%3Ali%3Apage%3Ad_flagship3_job_home%3BobHSV5i9RA6yU%2F%2F5gLL1pQ%3D%3D'\n",
    "jobs_url = \"https://www.linkedin.com/jobs/\"\n",
    "    \n",
    "# driver.get(jobs_url)\n",
    "\n",
    "driver.get(recomend_url)\n",
    "time.sleep(3)\n",
    "job_dict = {}\n",
    "job_dict['job_title'] = []\n",
    "job_dict['company'] = []\n",
    "job_dict['location'] = []\n",
    "job_dict['level'] = []\n",
    "job_dict['skills'] = []\n",
    "get_job_titles_company(1)"
   ]
  },
  {
   "cell_type": "code",
   "execution_count": 204,
   "id": "e2318a6c",
   "metadata": {
    "scrolled": true
   },
   "outputs": [
    {
     "data": {
      "text/plain": [
       "{'job_title': ['Junior Data Analyst',\n",
       "  'Data Analyst',\n",
       "  'Insight Analyst, Unloan, x15 Ventures',\n",
       "  'Data and BI Operations Analyst',\n",
       "  'BI/Reporting Analyst',\n",
       "  'Junior Data Analyst',\n",
       "  'Graduate Consultants - Data'],\n",
       " 'company': ['Centurion',\n",
       "  'Jobs via eFinancialCareers',\n",
       "  'Commonwealth Bank',\n",
       "  'Transport for NSW',\n",
       "  'INTELLIGEN',\n",
       "  'Sika',\n",
       "  'Hydrogen Group'],\n",
       " 'location': ['Perth, Western Australia, Australia',\n",
       "  'Sydney, New South Wales, Australia',\n",
       "  'Sydney, New South Wales, Australia',\n",
       "  'Sydney, New South Wales, Australia',\n",
       "  'Sydney, New South Wales, Australia',\n",
       "  'Perth, Western Australia, Australia',\n",
       "  'Sydney, New South Wales, Australia'],\n",
       " 'level': ['Full-time · Mid-Senior level',\n",
       "  'Full-time · Entry level',\n",
       "  'Full-time · Mid-Senior level',\n",
       "  'Full-time',\n",
       "  'Contract · Associate',\n",
       "  'Full-time · Mid-Senior level',\n",
       "  'Full-time · Mid-Senior level'],\n",
       " 'skills': ['IntroductionYour new roleWe have an exciting opportunity for a Junior Business Analyst to join our team, based in our Perth Airport office. Reporting to the Project Manager, the successful candidate will have an educational or experience-based background in IT or business analysis. The role will require assisting in identifying, analysing and reporting of specific data. The role will support the equipment and maintenance team in improving overall efficiency with reporting and procedure implementation.Culture And Benefits      Perth Airport location (Free Parking)38 hour working weekStrong safety cultureValue driven CompanyEmployee Wellness ProgramsCareer development opportunitiesCar, health, and home insurance discounts\\nTasks & Responsibilities      Collect, compile, analyse, and interpret data in various report formats as per the requirements.Utilize Microsoft Excel and Google Spreadsheets for data manipulation, statistical analysis, and visual representation.Exhibit competence in using Microsoft Power BI for data visualization, creating dashboards, and reports.Develop and implement data collection systems and other strategies to optimize efficiency and data quality.Identify and suggest potential improvements in reporting processes, including automating tasks and functions where possible.Process mapping for procedures.Use SQL databases and perform SQL queries as needed for data extraction and analysis.Provide insights and suggestions to the team based on data analysis, promoting a data-driven decision-making culture.\\nDescriptionWho we are looking for      Bachelor’s degree in relevant IT field OR demonstratable proficiency in key requirements. A sharp minded graduate that is quick to learn. Excellent Microsoft Excel skills – EssentialA strong understanding on Microsoft Power BI – EssentialBusiness/report writing skillsEffective time management and self-disciplineKnowledge of Quality Systems and ProceduresExcellent communication skills both written and verbal\\nSkills And ExperiencesWho is Centurion?Centurion is one of Australia’s largest independently owned and operated logistics (3PL) and transport companies. Based in Perth, Western Australia but operating across Australia, we have significant mobile, land and infrastructure assets nationwide, including 20 distribution centres and a fleet of more than 2,000 vehicles. This ensures Centurion provides flexible and reliable supply chain solutions for all our customers. Centurion is a values driven organisation operating with the vision of being the leading logistics partner for stakeholders in the commodity rich communities of Australia.Ready to take on a new challenge?If you feel you have the experience, ability, and skills to take the next step with your career within Centurion, we want to hear from you. Click ‘Apply for this Job’ now.',\n",
       "  \"Join a reputable telco company on an initial 6 month contract as a data analyst Your new companyAn opportunity is available to join a reputable telco organisation known for their great work culture and flexible working, on an initial 6-month contract.Your new roleAs the Data Analyst supporting the sales teams, you will be responsible for enhancing the segmentation and targeting strategy with a focus on the respective verticals. This includes looking at data around customer contracts and how to retain contracts by looking at the data and insights. Based on these insights and details, you will:      Analyse, clean, transform, validate, and model data to drive the current strategyProvide operational support for reporting and analytics activities including developing and publishing new weekly and monthly Metrics and Performance reportsPreparation and validation of internal reporting presenting conclusions gained from analysing data, including segment targeting, campaign opportunities, and channel efficiency.\\n What you'll need to succeed       Demonstrated experience in a Data Analyst role, Marketing / Insights Analyst roles having worked with sales teams are highly regarded  Extensive experience in building data dashboards and/or analysing large data sets to solve problems.  Highly experienced in SQL and Teradata. Experience in Python is a bonus.  Highly experienced in data visualisation using modern BI tools including Power BI, Tableau, Qlik , Microsoft Excel \\n What you'll get in returnFlexible and hybrid working arrangements (roughly 1 day per week in easy to get to office), competitive day rate, autonomy, reputable company.What You Need To Do NowIf you're interested in this role, click 'apply now' to forward an up-to-date copy of your CV, or call us now.If this job isn't quite right for you, but you are looking for a new position, please contact us for a confidential discussion on your career.LHS 297508#2785086\",\n",
       "  \"Who We AreWe’re Unloan, a new digital lending business, backed by x15 and CommBank.We're looking for smart people who think differently and want to make a difference. We’re a tech-first team with a big vision to give Australians a better deal in an important financial category. We’re nominally based in CommBank’s amazing new facilities at South Eveleigh.Your teamOur hands-on leadership team is responsible for shaping our strategy and culture; and growing a successful business that achieves our mission.To support our leaders, we’re on a mission to embed a best-in-class data culture across the business.We’ve build our backend green fields, which makes data management processes much easier to work with and fastens our ability to turn information in the database to valuable insights.The roleYour data & analytics experience will support all business stakeholders to make better decisions and supercharge Unloan’s mission to become Australia’s most loved digital home loan. Working with the Data Team, you will assist in the delivery of Unloan’s data strategy to meet demands of the business, and evangelise how we can better use data to make key business decisions.This is a hands-on role. Our reporting suite centres around Power BI, so you will be an expert Power BI user who can quickly configure and publish real-time dashboards that the business can rely on. There will also be adhoc analysis requirements and management of other data sources such as Google Analytics.This role will report to the Senior Manager Insights & Analytics.Your responsibilitiesData Analysis & Reporting        Utilize analytical tools and techniques to extract, analyze, and interpret complex data sets. Develop and maintain reports, dashboards, and visualizations using Power BI to effectively communicate key metrics and insights with the business. Continuously monitor and optimize the performance of data visualizations and reporting suites to ensure data accuracy, relevancy, and accessibility. \\nInsights Generation and Collaboration:       Collaborate with cross-functional teams to understand business requirements and identify opportunities for data-driven insights. Provide valuable insights and recommendations to key decision-makers by conducting in-depth analysis and presenting findings in a clear and actionable manner. Build relationships across the organization through effective communication and delivery of insights. \\nContinuous Learning and Innovation:       Stay up to date with the latest developments in data analysis tools, techniques, and industry trends to identify opportunities for improving data visualization and communication. Proactively seek out new data sources and integration opportunities to enhance the depth and breadth of insights generated. \\nYour Skills And Experience      Strong background in data analysis and visualisation. Demonstrated experience with Power BI and Excel data analysis. Technical proficiency in SQL. Excellent strategic, analytical and problem-solving skills. Excellent communication and presentation skills. Experience in data warehousing and management preferred. Experience in the home lending business preferred. A degree in actuary studies, statistics or mathematics preferred. You will be comfortable with uncertainty, and taking on big challenges that push you outside of your comfort zone You will be curious and open to learning new things, and taking accountability for finding solutions to challenging, ambiguous problems.\\nIf you live the values we can offer great opportunities, whether you want to move across the organization or up into a leadership role, the Code of Conduct guides our decision making so we can do what’s right in every situation.If you're already part of the Commonwealth Bank Group (including Bankwest), you'll need to apply through Sidekick to submit a valid application. We’re keen to support you with the next step in your career.We're aware of some accessibility issues on this site, particularly for screen reader users. We want to make finding your dream job as easy as possible, so if you require additional support please contact HR Direct on 1800 989 696.Advertising End Date: 27/07/2023\",\n",
       "  \"About UsTransport for NSW keeps our State moving by providing safe, integrated and efficient transport systems. We put our customers at the centre of everything we do – and we do a lot. We connect people, communities and industry and manage how they use our road, rail and maritime networks and services, and even active modes like walking and cycling. The work we do connects the journeys you take every day.We are a state government organisation made up of more than 28,000 people and we're in the middle of delivering the largest transport infrastructure program in Australia's history. We work across planning, policy and procurement, harnessing data and technology to develop smarter and more adaptive transport solutions.That means job opportunities in metropolitan and regional areas across NSW – and you have the chance to be part of creating a lasting legacy that will benefit generations to come.Find out more about Transport for NSWAdvanced Analytics & InsightsWe are a trusted partner to our clients, within Customer Strategy and Technology, developing and delivering smart, integrated and sustainable data and analytics solutions which enable evidence-driven decisions to benefit our customers and communities, and leading an uplift in data literacy of use of data insights across the cluster.?The opportunityWe have an opportunity for Data & BI Operations Analyst roles to be an integral part of the Advanced Analytics & Insights team within Customer Strategy and Technology. This role will contribute in ensuring optimal performance through managing the processes and operations relating to data and reporting, including the investigation and resolutions of incidents to ensure continued availability and reliability of data products throughout the delivery lifecycle. It is responsible for the continuous improvement and maintenance of business intelligence tools.This is a permnent full time role base at Macquaire Park with hybrid (1 or 2 days at office) and flexible ways of working.What you will be involved in but not limited to: ?      Actively contribute to innovation in Data and BI Ops practices and delivery approaches and technologies that assist with the development and delivery of data products.Work within the practices and processes necessary for effective problem management to minimise the impact of service outages, including updating the database of known issues, causes and resolutions to guide the development and support teams in minimising the impact of incidents.Manage and play an active role in monitoring, investigating and resolving incidents relating to data processes and reports whilst documenting learnings and working towards any future mitigation strategy.Contribute to existing data pipelines proactively to deliver continuous improvement in terms of automation, enrichment, timeliness, reliability, cost to serve with adherence to quality standards, including pipelines from external data sources.Provide support for the maintenance of data and reporting processes to ensure availability of data including working with vendors to ensure consistency and access to source data.Assist with implementation of data and support warranty period post release\\nPlease click here for a copy of role description.About you: ?      Experience in Python programming language would be essential.Basic understanding or exposure to ETL design and architecture (range of AWS cloud native technologies, custom code development and enterprise tools such as Talend) and/or development using visualisation tools such as Tableau, PowerBI or AWS QuickSight would be preferred or training provided if you are open to upskilling.Knowledge and understanding of Logical Data Models, Physical Data Models and Dimension Models and ability to deliver Logical Models and Physical Designs.Understanding of source systems to the customer delivery of data products including releasing, deployment and monitoring.Ability to coordinate with other teams for planning, design, governance, engineering and release management of processes and products to ensure timely and accurate delivery of data and analytics services.Experience in/exposure to Data Lake, Data Warehouse and data integration implementations on AWS cloud would be beneficial. \\nWant to know more? ? ?Please click here to view a copy of the role description.?Salary and?Benefits? The salary for this position is TfNSW Grade 7 ($108,770 - $121,822) per annum plus superannuation and leave loading.?For more information on Employee Benefits at?TfNSW?please click here .? Interested? ?Right now is an exciting time to join our team as we deliver an iconic $72.2 billion investment into future transport infrastructure and services over 40 years.Be a part of something big. Apply today to register your interest!Find out more about Transport for NSW at? https://www.transport.nsw.gov.au/about-us .??Close date: 11:59pm Sunday 9th July 2023.We’re an inclusive and flexible workplaceHere at Transport, we want our workforce to reflect the communities we serve by being an inclusive, diverse and flexible place for all our people.We offer a range of flexible work and leave options for our people. These options depend on your role and the work you do. Some of the ways our people work flexibly include a hybrid mix of virtual and in-person collaboration, staggering work hours, or even allocating extra hours worked towards a day off from time to time. We also offer more structured flexible agreements and tailored hybrid options for people who live regionally. We’re proud to be recognised as a FlexReady Certified employer, a Family Inclusive Workplace and winners of the ‘Best Remote Work Strategy’ at the Australian HR Awards 2022.Transport is committed to creating employment and career development opportunities for Aboriginal people. These include dedicated employee networks and yarn ups, as well as career development, leadership and mentoring programs for Aboriginal people working at Transport to connect, share and learn. Our Aboriginal Employment Unit (AEU), run by a team of Aboriginal employees, is available to support current and prospective employees. For more information, email the AEU team at Aboriginal.Employment@transport.nsw.gov.au or visit Aboriginal and Torres Strait Islander employment page.We want to ensure that employees living with disability, as well as those providing care, are supported. Visit Supporting people with disability to learn more about our initiatives and requesting recruitment and workplace adjustments.Please contact the Talent Specialist if you’d like to arrange any adjustments to how you interact with us throughout the recruitment process or would like to discuss flexible work options. For any enquiries, please email Jagadeesh Sethuraman at JAGADEESH.SETHURAMAN@TRANSPORT.NSW.GOV.AU.\",\n",
       "  'Great team and supportive culture Initial 6 month contract Opportunity to work with a HUGE data set and an incredible brand \\nThe RoleOne of Australia’s largest and most innovative companies is looking for a skilled Data Analyst that has a balance of technical and soft skills to join their experienced team. The ideal candidate has worked in data analytics, reporting roles and/or campaign analyst positions.You will be no stranger to working with large data sets and must have an analytical mindset. You must have a knack for understanding briefs and be able to translate these requirements to create and deliver measurable campaigns. You will engage and work with non-technical stakeholders so you will need excellent communication skills.What you need to succeed:      2 years commercial experience in hands on data processes and data manipulationExperience with data modellingStrong data skills with proficiency in SQL and querying relational databases.Experience with Tableau (preferred) and/or Power BIExperience working in complex, multi-stakeholder environments.\\nIf you’re an innovative, strategic thinker who has excellent communication and interpersonal skills, apply now!',\n",
       "  'IntroductionYour new roleWe have an exciting opportunity for a Junior Business Analyst to join our team, based in our Perth Airport office. Reporting to the Project Manager, the successful candidate will have an educational or experience-based background in IT or business analysis. The role will require assisting in identifying, analysing and reporting of specific data. The role will support the equipment and maintenance team in improving overall efficiency with reporting and procedure implementation.Culture And Benefits      Perth Airport location (Free Parking)38 hour working weekStrong safety cultureValue driven CompanyEmployee Wellness ProgramsCareer development opportunitiesCar, health, and home insurance discounts\\nTasks & Responsibilities      Collect, compile, analyse, and interpret data in various report formats as per the requirements.Utilize Microsoft Excel and Google Spreadsheets for data manipulation, statistical analysis, and visual representation.Exhibit competence in using Microsoft Power BI for data visualization, creating dashboards, and reports.Develop and implement data collection systems and other strategies to optimize efficiency and data quality.Identify and suggest potential improvements in reporting processes, including automating tasks and functions where possible.Process mapping for procedures.Use SQL databases and perform SQL queries as needed for data extraction and analysis.Provide insights and suggestions to the team based on data analysis, promoting a data-driven decision-making culture.\\nDescriptionWho we are looking for      Bachelor’s degree in relevant IT field OR demonstratable proficiency in key requirements. A sharp minded graduate that is quick to learn. Excellent Microsoft Excel skills – EssentialA strong understanding on Microsoft Power BI – EssentialBusiness/report writing skillsEffective time management and self-disciplineKnowledge of Quality Systems and ProceduresExcellent communication skills both written and verbal\\nSkills And ExperiencesWho is Centurion?Centurion is one of Australia’s largest independently owned and operated logistics (3PL) and transport companies. Based in Perth, Western Australia but operating across Australia, we have significant mobile, land and infrastructure assets nationwide, including 20 distribution centres and a fleet of more than 2,000 vehicles. This ensures Centurion provides flexible and reliable supply chain solutions for all our customers. Centurion is a values driven organisation operating with the vision of being the leading logistics partner for stakeholders in the commodity rich communities of Australia.Ready to take on a new challenge?If you feel you have the experience, ability, and skills to take the next step with your career within Centurion, we want to hear from you. Click ‘Apply for this Job’ now.',\n",
       "  \"Salary: $60-70k + super (training and certifications provided for free)Location: Sydney (flexible working)Experience level: 0-2 years (open to part time work if not yet completed studies)RoleOur client is a small consulting company dedicated to helping Australia improving economic and social outcomes from better data.Improved data management can reduce community isolation, improve outcomes for people with disability, point the way to a better education system, alter people's minds on approaching deep social issues. Data is a new resource utility to the community that is fundamental as water, electricity, transportation or the internet.Data Architecture and Data Modelling is changing. Moving away from sourced from IT skills, we are looking for specialists in language and organisation. We are looking for deep conceptual thinkers who can separate different things and merge similar things in their heads.You first discovered this when you played with blocks as a toddler. All the same colour blocks were put in the same place or maybe one of each colour were arranged in stacks in the same order. You sorted dolls by size. You needed order in your life. You needed order in your language.You might have gone onto a degree in the Arts (English or languages) or Psychology, but are now searching for a slightly different path.We are looking for recent graduates or students in their last semester who can offer our client close to full-time availability.Your Day To Day Duties Will Include       Support the teams outcomes through the manipulation and analysis of large data sets to identify trends, inconsistencies and priorities. Maintain data integrity and accuracy. Adapt to changing priorities and assignments.\\nWhat You'll Need To Succeed       Fast independent learner Prior experience in high level data analysis Well developed problem solving skills High attention to detail A customer focused and service-oriented mindset Strong communication and administration skills Ability to work under pressure in a team environment Creative and innovative thinking. Willingness to get involved in everything data-related for the team, new projects, research, automation of tasks, reporting, BI and much more. Proficient in the use of SQL and/or SAS (optional)\"]}"
      ]
     },
     "execution_count": 204,
     "metadata": {},
     "output_type": "execute_result"
    }
   ],
   "source": [
    "job_dict"
   ]
  },
  {
   "cell_type": "code",
   "execution_count": 179,
   "id": "174c2448",
   "metadata": {},
   "outputs": [],
   "source": [
    "import pandas as pd"
   ]
  },
  {
   "cell_type": "code",
   "execution_count": 205,
   "id": "dc13e1dd",
   "metadata": {},
   "outputs": [
    {
     "data": {
      "text/html": [
       "<div>\n",
       "<style scoped>\n",
       "    .dataframe tbody tr th:only-of-type {\n",
       "        vertical-align: middle;\n",
       "    }\n",
       "\n",
       "    .dataframe tbody tr th {\n",
       "        vertical-align: top;\n",
       "    }\n",
       "\n",
       "    .dataframe thead th {\n",
       "        text-align: right;\n",
       "    }\n",
       "</style>\n",
       "<table border=\"1\" class=\"dataframe\">\n",
       "  <thead>\n",
       "    <tr style=\"text-align: right;\">\n",
       "      <th></th>\n",
       "      <th>job_title</th>\n",
       "      <th>company</th>\n",
       "      <th>location</th>\n",
       "      <th>level</th>\n",
       "      <th>skills</th>\n",
       "    </tr>\n",
       "  </thead>\n",
       "  <tbody>\n",
       "    <tr>\n",
       "      <th>0</th>\n",
       "      <td>Junior Data Analyst</td>\n",
       "      <td>Centurion</td>\n",
       "      <td>Perth, Western Australia, Australia</td>\n",
       "      <td>Full-time · Mid-Senior level</td>\n",
       "      <td>IntroductionYour new roleWe have an exciting o...</td>\n",
       "    </tr>\n",
       "    <tr>\n",
       "      <th>1</th>\n",
       "      <td>Data Analyst</td>\n",
       "      <td>Jobs via eFinancialCareers</td>\n",
       "      <td>Sydney, New South Wales, Australia</td>\n",
       "      <td>Full-time · Entry level</td>\n",
       "      <td>Join a reputable telco company on an initial 6...</td>\n",
       "    </tr>\n",
       "    <tr>\n",
       "      <th>2</th>\n",
       "      <td>Insight Analyst, Unloan, x15 Ventures</td>\n",
       "      <td>Commonwealth Bank</td>\n",
       "      <td>Sydney, New South Wales, Australia</td>\n",
       "      <td>Full-time · Mid-Senior level</td>\n",
       "      <td>Who We AreWe’re Unloan, a new digital lending ...</td>\n",
       "    </tr>\n",
       "    <tr>\n",
       "      <th>3</th>\n",
       "      <td>Data and BI Operations Analyst</td>\n",
       "      <td>Transport for NSW</td>\n",
       "      <td>Sydney, New South Wales, Australia</td>\n",
       "      <td>Full-time</td>\n",
       "      <td>About UsTransport for NSW keeps our State movi...</td>\n",
       "    </tr>\n",
       "    <tr>\n",
       "      <th>4</th>\n",
       "      <td>BI/Reporting Analyst</td>\n",
       "      <td>INTELLIGEN</td>\n",
       "      <td>Sydney, New South Wales, Australia</td>\n",
       "      <td>Contract · Associate</td>\n",
       "      <td>Great team and supportive culture Initial 6 mo...</td>\n",
       "    </tr>\n",
       "    <tr>\n",
       "      <th>5</th>\n",
       "      <td>Junior Data Analyst</td>\n",
       "      <td>Sika</td>\n",
       "      <td>Perth, Western Australia, Australia</td>\n",
       "      <td>Full-time · Mid-Senior level</td>\n",
       "      <td>IntroductionYour new roleWe have an exciting o...</td>\n",
       "    </tr>\n",
       "    <tr>\n",
       "      <th>6</th>\n",
       "      <td>Graduate Consultants - Data</td>\n",
       "      <td>Hydrogen Group</td>\n",
       "      <td>Sydney, New South Wales, Australia</td>\n",
       "      <td>Full-time · Mid-Senior level</td>\n",
       "      <td>Salary: $60-70k + super (training and certific...</td>\n",
       "    </tr>\n",
       "  </tbody>\n",
       "</table>\n",
       "</div>"
      ],
      "text/plain": [
       "                               job_title                     company  \\\n",
       "0                    Junior Data Analyst                   Centurion   \n",
       "1                           Data Analyst  Jobs via eFinancialCareers   \n",
       "2  Insight Analyst, Unloan, x15 Ventures           Commonwealth Bank   \n",
       "3         Data and BI Operations Analyst           Transport for NSW   \n",
       "4                   BI/Reporting Analyst                  INTELLIGEN   \n",
       "5                    Junior Data Analyst                        Sika   \n",
       "6            Graduate Consultants - Data              Hydrogen Group   \n",
       "\n",
       "                              location                         level  \\\n",
       "0  Perth, Western Australia, Australia  Full-time · Mid-Senior level   \n",
       "1   Sydney, New South Wales, Australia       Full-time · Entry level   \n",
       "2   Sydney, New South Wales, Australia  Full-time · Mid-Senior level   \n",
       "3   Sydney, New South Wales, Australia                     Full-time   \n",
       "4   Sydney, New South Wales, Australia          Contract · Associate   \n",
       "5  Perth, Western Australia, Australia  Full-time · Mid-Senior level   \n",
       "6   Sydney, New South Wales, Australia  Full-time · Mid-Senior level   \n",
       "\n",
       "                                              skills  \n",
       "0  IntroductionYour new roleWe have an exciting o...  \n",
       "1  Join a reputable telco company on an initial 6...  \n",
       "2  Who We AreWe’re Unloan, a new digital lending ...  \n",
       "3  About UsTransport for NSW keeps our State movi...  \n",
       "4  Great team and supportive culture Initial 6 mo...  \n",
       "5  IntroductionYour new roleWe have an exciting o...  \n",
       "6  Salary: $60-70k + super (training and certific...  "
      ]
     },
     "execution_count": 205,
     "metadata": {},
     "output_type": "execute_result"
    }
   ],
   "source": [
    "pd.DataFrame(job_dict)"
   ]
  },
  {
   "cell_type": "markdown",
   "id": "8650c184",
   "metadata": {},
   "source": [
    "# Experiment"
   ]
  },
  {
   "cell_type": "code",
   "execution_count": 166,
   "id": "5f352ce2",
   "metadata": {},
   "outputs": [],
   "source": [
    "src = driver.page_source\n",
    "\n",
    "# Now using beautiful soup\n",
    "soup = BeautifulSoup(src, 'html5lib')\n",
    "\n",
    "job_list = soup.find('div', {'class':'scaffold-layout__list-detail-inner'})\n",
    "\n",
    "text = job_list.find('div', {'class':'jobs-description__content jobs-description-content'}).find('span').getText().strip()"
   ]
  },
  {
   "cell_type": "code",
   "execution_count": 168,
   "id": "1f13ef0e",
   "metadata": {},
   "outputs": [
    {
     "data": {
      "text/plain": [
       "'Sydney, New South Wales, Australia'"
      ]
     },
     "execution_count": 168,
     "metadata": {},
     "output_type": "execute_result"
    }
   ],
   "source": [
    "job_list.find('span', {'class':'jobs-unified-top-card__bullet'}).contents[0].strip()"
   ]
  },
  {
   "cell_type": "code",
   "execution_count": 114,
   "id": "339107e2",
   "metadata": {},
   "outputs": [],
   "source": [
    "openai.api_key = params['api_key']"
   ]
  },
  {
   "cell_type": "code",
   "execution_count": 116,
   "id": "634db4d3",
   "metadata": {},
   "outputs": [],
   "source": [
    "system_msg=\"You are a career coach who understands job requirements\"\n",
    "user_msg=\"List 5 key skills to be a great fit in this job description \"+text\n",
    "response = openai.ChatCompletion.create(model=\"gpt-3.5-turbo\",\n",
    "                                        messages=[{\"role\": \"system\", \"content\": system_msg},\n",
    "                                         {\"role\": \"user\", \"content\": user_msg}])"
   ]
  },
  {
   "cell_type": "code",
   "execution_count": 118,
   "id": "3c262c8d",
   "metadata": {},
   "outputs": [
    {
     "name": "stdout",
     "output_type": "stream",
     "text": [
      "1. Strong analytical skills: The role requires the ability to collect, compile, analyze, and interpret data. A great fit would have a strong analytical mindset and be able to extract insights from data to support decision-making.\n",
      "2. Proficiency in data manipulation and visualization tools: The candidate should have excellent skills in Microsoft Excel and Microsoft Power BI. This includes the ability to manipulate data, perform statistical analysis, and create visual representations such as dashboards and reports.\n",
      "3. Attention to detail and accuracy: Given the importance of data quality, it is crucial for the candidate to have a high level of attention to detail and the ability to maintain accuracy in data collection, analysis, and reporting.\n",
      "4. Problem-solving and continuous improvement mindset: The role involves identifying potential improvements in reporting processes and automating tasks. Therefore, a great fit would be someone who has a proactive problem-solving mindset and is constantly looking for ways to optimize efficiency and effectiveness.\n",
      "5. Strong communication skills: The candidate should possess excellent written and verbal communication skills. This is important for effectively conveying insights and suggestions based on data analysis to the team and promoting a data-driven decision-making culture.\n"
     ]
    }
   ],
   "source": [
    "print(response[\"choices\"][0][\"message\"][\"content\"])"
   ]
  },
  {
   "cell_type": "code",
   "execution_count": null,
   "id": "f2dc6d34",
   "metadata": {},
   "outputs": [],
   "source": []
  }
 ],
 "metadata": {
  "kernelspec": {
   "display_name": "Python 3 (ipykernel)",
   "language": "python",
   "name": "python3"
  },
  "language_info": {
   "codemirror_mode": {
    "name": "ipython",
    "version": 3
   },
   "file_extension": ".py",
   "mimetype": "text/x-python",
   "name": "python",
   "nbconvert_exporter": "python",
   "pygments_lexer": "ipython3",
   "version": "3.8.12"
  }
 },
 "nbformat": 4,
 "nbformat_minor": 5
}
