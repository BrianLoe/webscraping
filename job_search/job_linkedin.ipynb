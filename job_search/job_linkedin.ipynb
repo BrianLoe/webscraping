{
 "cells": [
  {
   "cell_type": "code",
   "execution_count": 1,
   "id": "f03996ab",
   "metadata": {},
   "outputs": [],
   "source": [
    "from login import config\n",
    "\n",
    "params = config()"
   ]
  },
  {
   "cell_type": "code",
   "execution_count": 94,
   "id": "64a5a319",
   "metadata": {},
   "outputs": [],
   "source": [
    "from selenium import webdriver\n",
    "from selenium.webdriver.common.by import By\n",
    "from bs4 import BeautifulSoup\n",
    "import time\n",
    "\n",
    "# Creating a webdriver instance\n",
    "driver = webdriver.Chrome()\n",
    "# This instance will be used to log into LinkedIn\n",
    "\n",
    "# Opening linkedIn's login page\n",
    "driver.get(\"https://linkedin.com/uas/login\")\n",
    "\n",
    "# waiting for the page to load\n",
    "time.sleep(5)\n",
    "\n",
    "# entering username\n",
    "username = driver.find_element(By.ID, \"username\")\n",
    "# In case of an error, try changing the element tag used here.\n",
    "\n",
    "# Enter Your Email Address\n",
    "username.send_keys(params['user'])\n",
    "\n",
    "# entering password\n",
    "pword = driver.find_element(By.ID, \"password\")\n",
    "# In case of an error, try changing the elementtag used here.\n",
    "\n",
    "# Enter Your Password\n",
    "pword.send_keys(params['password'])\n",
    "\n",
    "# Clicking on the log in button\n",
    "# Format (syntax) of writing XPath --> //tagname[@attribute='value']\n",
    "driver.find_element(By.XPATH, \"//button[@type='submit']\").click()\n",
    "# In case of an error, try changing the XPath used here."
   ]
  },
  {
   "cell_type": "code",
   "execution_count": 205,
   "id": "fbca23f1",
   "metadata": {},
   "outputs": [],
   "source": [
    "def search_job_in_page(job_list, cur_page_num):\n",
    "    for row in job_list:\n",
    "        try:\n",
    "            job_title = row.find('a').contents[0].strip()\n",
    "            company = row.find('div', {'class':'job-card-container__company-name'}).contents[0].strip()\n",
    "            print('Job Title: ',job_title)\n",
    "            print('Company: ', company)\n",
    "        except: \n",
    "            try:\n",
    "                p_num = int(row.find('button').attrs.get('aria-label')[-1:])\n",
    "                if cur_page_num<p_num:\n",
    "                    cur_page_num=p_num\n",
    "                    break\n",
    "                elif cur_page_num>=p_num:\n",
    "                    continue\n",
    "            except:\n",
    "                continue\n",
    "    return cur_page_num"
   ]
  },
  {
   "cell_type": "code",
   "execution_count": 206,
   "id": "6bd1442b",
   "metadata": {},
   "outputs": [],
   "source": [
    "def get_job_titles_company(last_page):\n",
    "    for i in range(1, last_page+1):\n",
    "        src = driver.page_source\n",
    "\n",
    "        # Now using beautiful soup\n",
    "        soup = BeautifulSoup(src, 'html5')\n",
    "\n",
    "        job_list = soup.find_all('li', {'class':'ember-view'})\n",
    "        print('Listing all job lists in page ', i)\n",
    "        next_page_num = search_job_in_page(job_list,i)\n",
    "        print('\\n')\n",
    "        driver.find_element(By.XPATH, \"//button[@aria-label='Page \"+str(next_page_num)+\"']\").click()\n",
    "    return next_page_num"
   ]
  },
  {
   "cell_type": "code",
   "execution_count": 207,
   "id": "93de30ad",
   "metadata": {
    "scrolled": true
   },
   "outputs": [
    {
     "name": "stdout",
     "output_type": "stream",
     "text": [
      "Listing all job lists in page  1\n",
      "Job Title:  Data Analyst\n",
      "Company:  NOW Finance\n",
      "Job Title:  Analytics Engineer\n",
      "Company:  nib Group\n",
      "Job Title:  Data Analyst\n",
      "Company:  Peroptyx\n",
      "Job Title:  Operations Performance Analyst\n",
      "Company:  Synergy (Electricity Generation and Retail Corporation)\n",
      "Job Title:  Business Intelligence Analyst\n",
      "Company:  Seven Network\n",
      "Job Title:  Supply Chain/Logistics Analyst\n",
      "Company:  Launch Recruitment\n",
      "Job Title:  Expressions of Interest - Data Analyst, Data & Analytics\n",
      "Company:  EY\n",
      "\n",
      "\n",
      "Listing all job lists in page  2\n",
      "Job Title:  Junior, Intermediate or Senior Data Analyst\n",
      "Company:  Open\n",
      "Job Title:  Data Engineer\n",
      "Company:  Lion\n",
      "Job Title:  Data Analyst - Industrial & Energy\n",
      "Company:  Downer\n",
      "Job Title:  Data Analyst\n",
      "Company:  SustainAbility Consulting\n",
      "Job Title:  Data Analyst | Data and Analytics\n",
      "Company:  EY\n",
      "Job Title:  Business Analytics Training & Internship\n",
      "Company:  Oeson | Learning\n",
      "Job Title:  Data Analyst\n",
      "Company:  Worley\n",
      "\n",
      "\n",
      "Listing all job lists in page  3\n",
      "Job Title:  ANZ Business Insights, Machine Learning / Data Engineer\n",
      "Company:  The Aicila Group - International Recruitment & Consulting Specialists\n",
      "Job Title:  Research Data Scientist\n",
      "Company:  Tabcorp\n",
      "Job Title:  Data Analyst/ Junior Data Analyst\n",
      "Company:  Fortescue Future Industries\n",
      "Job Title:  Data Specialist\n",
      "Company:  CorePlan\n",
      "Job Title:  Junior Data Analyst\n",
      "Company:  Leidos Australia\n",
      "Job Title:  Wavemaker | Data Analyst\n",
      "Company:  Wavemaker ANZ\n",
      "Job Title:  Data Analyst\n",
      "Company:  NTT\n",
      "\n",
      "\n",
      "Listing all job lists in page  4\n",
      "Job Title:  People Analytics Analyst\n",
      "Company:  Lion\n",
      "Job Title:  Business Intelligence Tester\n",
      "Company:  Peoplebank\n",
      "Job Title:  Operation Analyst\n",
      "Company:  Adecco\n",
      "Job Title:  Mid-level Business Intelligence Analysts\n",
      "Company:  SKL Technology\n",
      "Job Title:  Junior Analyst\n",
      "Company:  Gough Recruitment\n",
      "Job Title:  Junior Analyst\n",
      "Company:  Appian Corporation\n",
      "Job Title:  Operational Support Analyst\n",
      "Company:  Prospa\n",
      "\n",
      "\n",
      "Listing all job lists in page  5\n",
      "Job Title:  Analytics Specialist\n",
      "Company:  University of Sydney\n",
      "Job Title:  Business Intelligence Analyst\n",
      "Company:  MTC Australia\n",
      "Job Title:  Business Performance Analyst\n",
      "Company:  Sydney Trains\n",
      "Job Title:  2023 Cloud Graduate Program\n",
      "Company:  Macquarie Technology Group\n",
      "Job Title:  APS5 BI/ Data Analyst\n",
      "Company:  DFP Recruitment\n",
      "Job Title:  Technology Graduate Program-EOI for 2024\n",
      "Company:  AMP\n",
      "Job Title:  Customer Engagement & Insights Analyst\n",
      "Company:  Johnson & Johnson\n",
      "\n",
      "\n"
     ]
    },
    {
     "data": {
      "text/plain": [
       "6"
      ]
     },
     "execution_count": 207,
     "metadata": {},
     "output_type": "execute_result"
    }
   ],
   "source": [
    "recomend_url= 'https://www.linkedin.com/jobs/collections/recommended?lipi=urn%3Ali%3Apage%3Ad_flagship3_job_home%3BobHSV5i9RA6yU%2F%2F5gLL1pQ%3D%3D'\n",
    "jobs_url = \"https://www.linkedin.com/jobs/\"\n",
    "    \n",
    "driver.get(jobs_url)\n",
    "\n",
    "driver.get(recomend_url)\n",
    "get_job_titles_company(5)"
   ]
  },
  {
   "cell_type": "code",
   "execution_count": 194,
   "id": "6b4be761",
   "metadata": {},
   "outputs": [
    {
     "name": "stdout",
     "output_type": "stream",
     "text": [
      "Data Analyst Consultant at GYDE Consulting\n",
      "current page: 2\n",
      "Data Analyst at SustainAbility Consulting\n",
      "current page: 2\n",
      "Data Engineer at Lion\n",
      "current page: 2\n",
      "Online Data Analyst at TELUS International\n",
      "current page: 2\n",
      "Graduate Consultants - Data at Hydrogen Group\n",
      "current page: 2\n",
      "Graduate - Marketing Analyst (@ Leading Media Company) at Hatch\n",
      "current page: 2\n",
      "Data Analytics/ Data Governance/ Data Engineer Expression of Interest at Macquarie Group\n",
      "current page: 2\n"
     ]
    }
   ],
   "source": [
    "driver.find_element(By.XPATH, \"//button[@aria-label='Page \"+str(p_num)+\"']\").click()\n",
    "src = driver.page_source\n",
    "\n",
    "# Now using beautiful soup\n",
    "soup = BeautifulSoup(src, 'html5')\n",
    "job_list = soup.find_all('li', {'class':'ember-view'})\n",
    "p_num = get_job_titles_company(p_num)"
   ]
  },
  {
   "cell_type": "code",
   "execution_count": null,
   "id": "34daea36",
   "metadata": {},
   "outputs": [],
   "source": []
  }
 ],
 "metadata": {
  "kernelspec": {
   "display_name": "Python 3 (ipykernel)",
   "language": "python",
   "name": "python3"
  },
  "language_info": {
   "codemirror_mode": {
    "name": "ipython",
    "version": 3
   },
   "file_extension": ".py",
   "mimetype": "text/x-python",
   "name": "python",
   "nbconvert_exporter": "python",
   "pygments_lexer": "ipython3",
   "version": "3.8.12"
  }
 },
 "nbformat": 4,
 "nbformat_minor": 5
}
