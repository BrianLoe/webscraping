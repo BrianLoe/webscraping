{
 "cells": [
  {
   "cell_type": "code",
   "execution_count": 113,
   "id": "f03996ab",
   "metadata": {},
   "outputs": [],
   "source": [
    "from login import config\n",
    "\n",
    "params = config()"
   ]
  },
  {
   "cell_type": "code",
   "execution_count": 70,
   "id": "64a5a319",
   "metadata": {},
   "outputs": [],
   "source": [
    "from selenium import webdriver\n",
    "from selenium.webdriver.common.by import By\n",
    "from bs4 import BeautifulSoup\n",
    "import time\n",
    "\n",
    "# Creating a webdriver instance\n",
    "driver = webdriver.Chrome()\n",
    "# This instance will be used to log into LinkedIn\n",
    "\n",
    "# Opening linkedIn's login page\n",
    "driver.get(\"https://linkedin.com/uas/login\")\n",
    "\n",
    "# waiting for the page to load\n",
    "time.sleep(5)\n",
    "\n",
    "# entering username\n",
    "username = driver.find_element(By.ID, \"username\")\n",
    "# In case of an error, try changing the element tag used here.\n",
    "\n",
    "# Enter Your Email Address\n",
    "username.send_keys(params['user'])\n",
    "\n",
    "# entering password\n",
    "pword = driver.find_element(By.ID, \"password\")\n",
    "# In case of an error, try changing the element tag used here.\n",
    "\n",
    "# Enter Your Password\n",
    "pword.send_keys(params['password'])\n",
    "\n",
    "# Clicking on the log in button\n",
    "# Format (syntax) of writing XPath --> //tagname[@attribute='value']\n",
    "driver.find_element(By.XPATH, \"//button[@type='submit']\").click()\n",
    "# In case of an error, try changing the XPath used here."
   ]
  },
  {
   "cell_type": "code",
   "execution_count": 77,
   "id": "fbca23f1",
   "metadata": {},
   "outputs": [],
   "source": [
    "def search_job_in_page(job_list, cur_page_num):\n",
    "    job_name = job_list.find_all('li', {'class':'ember-view'})\n",
    "    for row in job_name:\n",
    "        try:\n",
    "            job_title = row.find('a').contents[0].strip()\n",
    "            company = row.find('div', {'class':'job-card-container__company-name'}).contents[0].strip()\n",
    "            level = job_list.find('li', {'class':'jobs-unified-top-card__job-insight'}).find('span').contents[2]\n",
    "            print('Job Title: ',job_title)\n",
    "            print('Company: ', company)\n",
    "            print('Level: ',level)\n",
    "            print()\n",
    "        except: \n",
    "            try:\n",
    "                p_num = int(row.find('button').attrs.get('aria-label')[-1:])\n",
    "                if cur_page_num<p_num:\n",
    "                    cur_page_num=p_num\n",
    "                    break\n",
    "                elif cur_page_num>=p_num:\n",
    "                    continue\n",
    "            except:\n",
    "                continue\n",
    "    return cur_page_num"
   ]
  },
  {
   "cell_type": "code",
   "execution_count": 78,
   "id": "6bd1442b",
   "metadata": {},
   "outputs": [],
   "source": [
    "def get_job_titles_company(last_page):\n",
    "    for i in range(1, last_page+1):\n",
    "        src = driver.page_source\n",
    "\n",
    "        # Now using beautiful soup\n",
    "        soup = BeautifulSoup(src, 'html5lib')\n",
    "\n",
    "        job_list = soup.find('div', {'class':'scaffold-layout__list-detail-inner'})\n",
    "        print('||Listing all job lists in page ', i+'||')\n",
    "        next_page_num = search_job_in_page(job_list,i)\n",
    "        print()\n",
    "        driver.find_element(By.XPATH, \"//button[@aria-label='Page \"+str(next_page_num)+\"']\").click()\n",
    "        time.sleep(7)\n",
    "    return next_page_num"
   ]
  },
  {
   "cell_type": "code",
   "execution_count": 79,
   "id": "93de30ad",
   "metadata": {
    "scrolled": true
   },
   "outputs": [
    {
     "name": "stdout",
     "output_type": "stream",
     "text": [
      "Listing all job lists in page  1\n",
      "Job Title:  Junior Data Analyst\n",
      "Company:  Centurion\n",
      "Level:  Full-time · Mid-Senior level\n",
      "\n",
      "Job Title:  Data Analyst – Data Team (Bangkok based, relocation provided)\n",
      "Company:  Agoda\n",
      "Level:  Full-time · Mid-Senior level\n",
      "\n",
      "Job Title:  Supply Chain Analyst / Data Analyst\n",
      "Company:  Michael Page\n",
      "Level:  Full-time · Mid-Senior level\n",
      "\n",
      "Job Title:  Analyst - RNA\n",
      "Company:  WNS\n",
      "Level:  Full-time · Mid-Senior level\n",
      "\n",
      "Job Title:  Insight Analyst, Unloan, x15 Ventures\n",
      "Company:  Commonwealth Bank\n",
      "Level:  Full-time · Mid-Senior level\n",
      "\n",
      "Job Title:  Business Intelligence Analyst\n",
      "Company:  SustainAbility Consulting\n",
      "Level:  Full-time · Mid-Senior level\n",
      "\n",
      "Job Title:  Business Intelligence Tester\n",
      "Company:  Peoplebank\n",
      "Level:  Full-time · Mid-Senior level\n",
      "\n",
      "\n",
      "Listing all job lists in page  2\n",
      "Job Title:  ANZ Business Insights, Machine Learning / Data Engineer\n",
      "Company:  The Aicila Group - International Recruitment & Consulting Specialists\n",
      "Level:  Full-time\n",
      "\n",
      "Job Title:  Professional, Data Analysis\n",
      "Company:  CoreLogic Australia\n",
      "Level:  Full-time\n",
      "\n",
      "Job Title:  Data Scientist\n",
      "Company:  REA Group\n",
      "Level:  Full-time\n",
      "\n",
      "Job Title:  Data Migration Analyst\n",
      "Company:  Paxus\n",
      "Level:  Full-time\n",
      "\n",
      "Job Title:  Data Analyst\n",
      "Company:  HelloFresh\n",
      "Level:  Full-time\n",
      "\n",
      "Job Title:  Data Engineer - SQL\n",
      "Company:  Fractal\n",
      "Level:  Full-time\n",
      "\n",
      "Job Title:  Junior Data Analyst\n",
      "Company:  Leidos Australia\n",
      "Level:  Full-time\n",
      "\n",
      "\n"
     ]
    },
    {
     "data": {
      "text/plain": [
       "3"
      ]
     },
     "execution_count": 79,
     "metadata": {},
     "output_type": "execute_result"
    }
   ],
   "source": [
    "recomend_url= 'https://www.linkedin.com/jobs/collections/recommended?lipi=urn%3Ali%3Apage%3Ad_flagship3_job_home%3BobHSV5i9RA6yU%2F%2F5gLL1pQ%3D%3D'\n",
    "jobs_url = \"https://www.linkedin.com/jobs/\"\n",
    "    \n",
    "# driver.get(jobs_url)\n",
    "\n",
    "driver.get(recomend_url)\n",
    "get_job_titles_company(2)"
   ]
  },
  {
   "cell_type": "code",
   "execution_count": 115,
   "id": "4dbf7577",
   "metadata": {},
   "outputs": [],
   "source": [
    "src = driver.page_source\n",
    "\n",
    "# Now using beautiful soup\n",
    "soup = BeautifulSoup(src, 'html5lib')\n",
    "\n",
    "job_list = soup.find('div', {'class':'scaffold-layout__list-detail-inner'})\n",
    "\n",
    "text = job_list.find('div', {'class':'jobs-description__content jobs-description-content'}).find('span').getText().strip()"
   ]
  },
  {
   "cell_type": "code",
   "execution_count": 112,
   "id": "f4d2462a",
   "metadata": {},
   "outputs": [],
   "source": [
    "import openai"
   ]
  },
  {
   "cell_type": "code",
   "execution_count": 114,
   "id": "045cdaa1",
   "metadata": {},
   "outputs": [],
   "source": [
    "openai.api_key = params['api_key']"
   ]
  },
  {
   "cell_type": "code",
   "execution_count": 116,
   "id": "a226ca9c",
   "metadata": {},
   "outputs": [],
   "source": [
    "system_msg=\"You are a career coach who understands job requirements\"\n",
    "user_msg=\"List 5 key skills to be a great fit in this job description \"+text\n",
    "response = openai.ChatCompletion.create(model=\"gpt-3.5-turbo\",\n",
    "                                        messages=[{\"role\": \"system\", \"content\": system_msg},\n",
    "                                         {\"role\": \"user\", \"content\": user_msg}])"
   ]
  },
  {
   "cell_type": "code",
   "execution_count": 118,
   "id": "c15639fe",
   "metadata": {},
   "outputs": [
    {
     "name": "stdout",
     "output_type": "stream",
     "text": [
      "1. Strong analytical skills: The role requires the ability to collect, compile, analyze, and interpret data. A great fit would have a strong analytical mindset and be able to extract insights from data to support decision-making.\n",
      "2. Proficiency in data manipulation and visualization tools: The candidate should have excellent skills in Microsoft Excel and Microsoft Power BI. This includes the ability to manipulate data, perform statistical analysis, and create visual representations such as dashboards and reports.\n",
      "3. Attention to detail and accuracy: Given the importance of data quality, it is crucial for the candidate to have a high level of attention to detail and the ability to maintain accuracy in data collection, analysis, and reporting.\n",
      "4. Problem-solving and continuous improvement mindset: The role involves identifying potential improvements in reporting processes and automating tasks. Therefore, a great fit would be someone who has a proactive problem-solving mindset and is constantly looking for ways to optimize efficiency and effectiveness.\n",
      "5. Strong communication skills: The candidate should possess excellent written and verbal communication skills. This is important for effectively conveying insights and suggestions based on data analysis to the team and promoting a data-driven decision-making culture.\n"
     ]
    }
   ],
   "source": [
    "print(response[\"choices\"][0][\"message\"][\"content\"])"
   ]
  },
  {
   "cell_type": "code",
   "execution_count": null,
   "id": "ab062b02",
   "metadata": {},
   "outputs": [],
   "source": []
  }
 ],
 "metadata": {
  "kernelspec": {
   "display_name": "Python 3 (ipykernel)",
   "language": "python",
   "name": "python3"
  },
  "language_info": {
   "codemirror_mode": {
    "name": "ipython",
    "version": 3
   },
   "file_extension": ".py",
   "mimetype": "text/x-python",
   "name": "python",
   "nbconvert_exporter": "python",
   "pygments_lexer": "ipython3",
   "version": "3.8.12"
  }
 },
 "nbformat": 4,
 "nbformat_minor": 5
}
